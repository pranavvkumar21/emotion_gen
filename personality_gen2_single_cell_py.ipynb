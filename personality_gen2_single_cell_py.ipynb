{
  "nbformat": 4,
  "nbformat_minor": 0,
  "metadata": {
    "colab": {
      "provenance": [],
      "collapsed_sections": []
    },
    "kernelspec": {
      "name": "python3",
      "display_name": "Python 3"
    },
    "language_info": {
      "name": "python"
    }
  },
  "cells": [
    {
      "cell_type": "code",
      "execution_count": 1,
      "metadata": {
        "id": "hN_zt6nBFDB2"
      },
      "outputs": [],
      "source": [
        "import random\n",
        "import numpy as np\n",
        "import copy\n",
        "import matplotlib.pyplot as plt\n",
        "import pandas as pd\n",
        "from scipy.signal import medfilt\n",
        "import os\n",
        "import csv\n",
        "from datetime import datetime\n",
        "from scipy.signal import argrelextrema\n",
        "import math"
      ]
    },
    {
      "cell_type": "code",
      "source": [
        "from google.colab import drive\n",
        "drive.mount('/content/drive/')"
      ],
      "metadata": {
        "colab": {
          "base_uri": "https://localhost:8080/"
        },
        "id": "89JJxxXW6xso",
        "outputId": "bdfaaeab-35c1-46e0-b5dc-c1f7a1fccaad"
      },
      "execution_count": 2,
      "outputs": [
        {
          "output_type": "stream",
          "name": "stdout",
          "text": [
            "Drive already mounted at /content/drive/; to attempt to forcibly remount, call drive.mount(\"/content/drive/\", force_remount=True).\n"
          ]
        }
      ]
    },
    {
      "cell_type": "code",
      "source": [
        "import os\n",
        "os.chdir(\"/content/drive/MyDrive/My_Dissertation/\")"
      ],
      "metadata": {
        "id": "Lz1-qzx37tDi"
      },
      "execution_count": 3,
      "outputs": []
    },
    {
      "cell_type": "code",
      "source": [
        "filename = \"test3_output2.csv\"\n",
        "initial_personality_means = [0.5]*5\n",
        "weight = 0.5\n",
        "alpha = 0\n",
        "valence_weights = [0.5,0.5,0.1]\n",
        "arousal_weights = [0.8,0.2,0.1]\n",
        "ow=np.array([[0.33, 0, 0.66, 0, 0, 0, 0, 0,0,0],   #o_def\n",
        "    [0.0, 0, 0.0, 0, 0.0, 0, 0.0, 0,0,0],           #c_def\n",
        "    [0.0, 0, 0.33, 0, 0, 0, 0.66, 0,0,0],           #e_def\n",
        "    [0.0, 0, 0, 0, 0.66, 0, 0.33, 0,0,0],            #a_def\n",
        "    [0, 0.25, 0, 0.25, 0, 0.25, 0, 0.25,0,0]])     "
      ],
      "metadata": {
        "id": "c57eJBdJFKlh"
      },
      "execution_count": 4,
      "outputs": []
    },
    {
      "cell_type": "code",
      "source": [
        "data_2_x = np.linspace(-1,1,7782)\n",
        "data_2_y = data_2_x"
      ],
      "metadata": {
        "id": "-CvYT4PqTi6o"
      },
      "execution_count": 5,
      "outputs": []
    },
    {
      "cell_type": "code",
      "source": [
        "def read_csv(filename):\n",
        "        MFC_data = pd.read_csv(filename)\n",
        "        time = MFC_data['time'].to_numpy()\n",
        "        data = MFC_data.loc[:,'cell_1':].to_numpy()\n",
        "        return time,data"
      ],
      "metadata": {
        "id": "bgW0zhiyGCTZ"
      },
      "execution_count": 6,
      "outputs": []
    },
    {
      "cell_type": "code",
      "source": [
        "class Robot_personality:\n",
        "    def __init__(self,mu,ow,weight=0.5,alpha = 0.5):\n",
        "        self.personality = {}\n",
        "        self.create_random_personality(mu)\n",
        "        self.initial_personality = self.personality.copy()\n",
        "        #print(\"hi\")\n",
        "        self.delta = {}\n",
        "        self.delta_mean = {}\n",
        "        self.valence = 0.0\n",
        "        self.arousal = 0.0\n",
        "        self.likeness = 0.0\n",
        "        self.emotion_bins = np.linspace(0,2*math.pi,13)\n",
        "        self.emotions = {0:\"pleased\",1:\"happy\",2:\"excited\",3:\"annoying\",4:\"angry\",5:\"nervous\",6:\"sad\",7:\"bored\",8:\"sleepy\",9:\"calm\",10:\"peaceful\",11:\"relaxed\"}\n",
        "        self.emotions_marker = {0:\"lightgreen\",1:\"yellow\",2:\"gold\",3:\"darkorange\",4:\"darksalmon\",5:\"red\",6:'purple',7:\"blueviolet\",8:\"blue\",9:\"dodgerblue\",10:\"cyan\",11:\"lime\"}\n",
        "        self.emotion_val = 0\n",
        "        self.mfc_data = np.empty((0,1),\"float32\")\n",
        "        self.mfc_data_norm = np.empty((0,1),\"float32\")\n",
        "        self.time_data = np.empty((0,1),\"float32\")\n",
        "        self.stability_bins = [0]*4 #se,sg,sr,sb\n",
        "        self.valence_bins = [0]*4\n",
        "        \n",
        "        self.order = 0\n",
        "        self.answer = 0\n",
        "        self.mean_mfc = 0.0\n",
        "        self.mfc_min = 80\n",
        "        self.mfc_max = 300\n",
        "        self.S = 0.001\n",
        "        self.W = weight\n",
        "        self.alpha = 0.1\n",
        "        self.start_smooth = 1\n",
        "        self.delta_evolution = []\n",
        "        self.personality_evolution = []\n",
        "        self.magnitude_evolution = []\n",
        "        self.phi_evolution = []\n",
        "        self.bin_evolution = []\n",
        "        self.valence_evolution = []\n",
        "        self.arousal_evolution = []\n",
        "    def create_random_personality(self,mu):\n",
        "        sigma = 0.001\n",
        "        keys = \"ocean\"\n",
        "        if len(mu)==5:\n",
        "            personality = [np.random.normal(i,sigma) for i in mu]\n",
        "            self.personality  = {keys[i]:personality[i] for i in range(len(keys))}\n",
        "        else:\n",
        "            print(\"error creating personalities....setting default personality \")\n",
        "            personality = [0.5*5]\n",
        "        return personality\n",
        "\n",
        "    def update_order_answer_likeness(self,o=0,a=0,l=0):\n",
        "        self.order = (o+1)/2\n",
        "        self.answer = (a+1)/2\n",
        "        self.likeness = l#math.sin(self.time_data[-1])\n",
        "\n",
        "    ##### add to to object memory  #####\n",
        "    def update_mfc_data(self,data,time):\n",
        "\n",
        "        self.mfc_data = np.append(self.mfc_data,data)\n",
        "        self.time_data = np.append(self.time_data,time)\n",
        "        self.mfc_data_norm = 2*((self.mfc_data-self.mfc_min)/(self.mfc_max-self.mfc_min))-1\n",
        "        \n",
        "        \n",
        "\n",
        "\n",
        "        #self.diff = np.abs(self.diff-np.mean(self.diff))/np.std(self.diff)\n",
        "        #self.diff = (np.clip(self.diff,-2,2)/2.5)\n",
        "\n",
        "\n",
        "    ##### update valence and arousal #####\n",
        "    def update_mood(self,valence_weights,arousal_weights):\n",
        "        self.valence = (((valence_weights[0]*(self.mfc_data_norm[-1]+1)/2+valence_weights[1]*(self.likeness+1)/2)*(1-valence_weights[2]*self.personality[\"n\"]))*2)-1\n",
        "        self.arousal = (((arousal_weights[0]*(self.mfc_data_norm[-1]+1)/2+arousal_weights[1]*(self.likeness+1)/2)*(1-arousal_weights[2]*self.personality[\"n\"]))*2)-1\n",
        "        self.valence_evolution.append(self.valence)\n",
        "        self.arousal_evolution.append(self.arousal)\n",
        "        mean = np.mean(self.valence_evolution[:-1])\n",
        "        sigma = np.std(self.valence_evolution[:-1])\n",
        "        if len(self.valence_evolution)>0:\n",
        "          if self.valence_evolution[-1] < mean-sigma :\n",
        "            self.valence_bins[3]+=1\n",
        "          elif self.valence_evolution[-1] >= mean-sigma and self.valence_evolution[-1] <= mean:\n",
        "            self.valence_bins[2]+=1\n",
        "          elif self.valence_evolution[-1] > mean and self.valence_evolution[-1] <= mean+sigma:\n",
        "            self.valence_bins[1]+=1\n",
        "          else:\n",
        "            self.valence_bins[0]+=1\n",
        "          self.happiness = (2*self.valence_bins[0] +self.valence_bins[1])/(2*self.valence_bins[0] +self.valence_bins[1]+2*self.valence_bins[3] +self.stability_bins[2])\n",
        "          #print(self.valence_bins)\n",
        "        \n",
        "        return self.valence,self.arousal,self.happiness\n",
        "\n",
        "    ##### update delta  #########\n",
        "    def update_o(self):\n",
        "        self.delta[\"o\"] = (1/3)*self.happiness + (2/3)*self.answer\n",
        "        \n",
        "        return self.delta[\"o\"]\n",
        "\n",
        "    def update_c(self):\n",
        "        self.diff = np.abs(np.diff(self.arousal_evolution))\n",
        "        mean = np.mean(self.diff[:-1])\n",
        "        sigma = np.std(self.diff[:-1])\n",
        "        if len(self.diff)>0:\n",
        "          if self.diff[-1] < mean-sigma :\n",
        "            self.stability_bins[0]+=1\n",
        "          elif self.diff[-1] >= mean-sigma and self.diff[-1] <= mean:\n",
        "            self.stability_bins[1]+=1\n",
        "          elif self.diff[-1] > mean and self.diff[-1] <= mean+sigma:\n",
        "            self.stability_bins[2]+=1\n",
        "          else:\n",
        "            self.stability_bins[3]+=1\n",
        "\n",
        "        \n",
        "        if len(self.diff)<=0:\n",
        "          self.delta[\"c\"] = self.initial_personality[\"c\"]\n",
        "        else:\n",
        "          self.delta[\"c\"] = (2*self.stability_bins[0] +self.stability_bins[1])/(2*self.stability_bins[0] +self.stability_bins[1]+2*self.stability_bins[3] +self.stability_bins[2])\n",
        "\n",
        "        if self.delta[\"c\"]==0:\n",
        "          self.delta[\"c\"] = self.initial_personality[\"c\"]\n",
        "\n",
        "        return self.delta[\"c\"]\n",
        "    def update_e(self):\n",
        "        self.delta[\"e\"] = (2/3)*self.happiness + (1/3)*self.answer\n",
        "        \n",
        "        return self.delta[\"e\"]\n",
        "    def update_a(self):\n",
        "        self.delta[\"a\"] = (1/3)*self.happiness + (2/3)*(1-self.order)\n",
        "        \n",
        "        return self.delta[\"a\"]\n",
        "    def update_n(self):\n",
        "        self.delta[\"n\"] = (1/2)*(1-self.happiness) + (1/4)*(1-self.order) + (1/4)*(1-self.answer)\n",
        "        #print(self.delta[\"n\"])\n",
        "        #self.delta[\"n\"] = (self.delta[\"n\"]+1)/2\n",
        "        return self.delta[\"n\"]\n",
        "    def update_delta_evolution(self):\n",
        "        self.update_o()\n",
        "        self.update_c()\n",
        "        self.update_e()\n",
        "        self.update_a()\n",
        "        self.update_n()\n",
        "        self.delta_evolution.append(np.array(list(self.delta.values()),dtype=float))\n",
        "        self.delta_mean = np.mean(self.delta_evolution,axis=0)\n",
        "        keys = \"ocean\"\n",
        "        self.delta_mean  = {keys[i]:self.delta_mean[i] for i in range(len(keys))}\n",
        "\n",
        "\n",
        "\n",
        "    ##### update personality #########\n",
        "    def smoothing(self):\n",
        "\n",
        "      self.S = self.start_smooth*(1-math.tanh(self.alpha*self.time_data[-1]))\n",
        "      self.S=1\n",
        "      for i in self.personality.keys():\n",
        "        self.personality[i] =  self.S*self.personality[i] + (1-self.S)*self.prev_personality[i]\n",
        "      #print(self.S)\n",
        "    def update_personality(self):\n",
        "        \n",
        "        self.prev_personality = self.personality.copy()\n",
        "        for i in self.personality.keys():\n",
        "          self.personality[i] = self.W*self.initial_personality[i] + (1-self.W)*(self.delta[i])\n",
        "        self.smoothing()  \n",
        "        self.personality_evolution.append(np.array(list(self.personality.values()),dtype=float))\n",
        "        return np.array(list(self.personality.values()),dtype=float)\n",
        "\n",
        "    ##### update emotions\n",
        "    def bin(self):\n",
        "        for i in range(12):\n",
        "          if self.phi>self.emotion_bins[i] and self.phi<=self.emotion_bins[i+1]:\n",
        "            \n",
        "            self.emotion_val = i\n",
        "            return i\n",
        "        else:\n",
        "          print(\"none\")\n",
        "    def emotion_gen(self):\n",
        "        self.phi = math.atan2(self.arousal,self.valence)\n",
        "        if self.phi<0:\n",
        "          self.phi = math.pi + (math.pi+self.phi)\n",
        "        self.magnitude = math.sqrt(math.pow(self.arousal,2)+math.pow(self.valence,2))\n",
        "        self.phi_evolution.append(self.phi)\n",
        "        self.magnitude_evolution.append(self.magnitude)\n",
        "        self.bin_evolution.append(self.bin())\n",
        "        \n",
        "        "
      ],
      "metadata": {
        "id": "4l41BYIyFNEe"
      },
      "execution_count": 7,
      "outputs": []
    },
    {
      "cell_type": "code",
      "source": [
        "#time,data = read_csv(filename)\n",
        "with open('./mfc_data.npy', 'rb') as f:\n",
        "    time = np.load(f)\n",
        "    data = np.load(f)\n",
        "#mfc_2 = data[:3891]\n",
        "#time = time[:3891]\n",
        "robot_1 = Robot_personality(initial_personality_means,ow,weight,alpha)\n",
        "order = -0.5\n",
        "answer = 0.5\n",
        "likeness = np.sin(np.linspace(0,10,len(time)))\n",
        "valence = []\n",
        "arousal = []\n",
        "happiness = []\n",
        "op = []\n",
        "co = []\n",
        "ex =[]\n",
        "ag =[]\n",
        "ne = []\n",
        "personality_evolution=[]"
      ],
      "metadata": {
        "id": "pmv3gdrhFQFy"
      },
      "execution_count": 8,
      "outputs": []
    },
    {
      "cell_type": "code",
      "source": [
        "robot_1.personality"
      ],
      "metadata": {
        "colab": {
          "base_uri": "https://localhost:8080/"
        },
        "id": "15jPeu2LHlor",
        "outputId": "bf8ba637-5a6f-41a9-d36d-2f1d03848f22"
      },
      "execution_count": 9,
      "outputs": [
        {
          "output_type": "execute_result",
          "data": {
            "text/plain": [
              "{'o': 0.5005598493804332,\n",
              " 'c': 0.5001489678633527,\n",
              " 'e': 0.500681088944206,\n",
              " 'a': 0.4999366872108072,\n",
              " 'n': 0.5002881857045032}"
            ]
          },
          "metadata": {},
          "execution_count": 9
        }
      ]
    },
    {
      "cell_type": "code",
      "source": [
        "for i in range(len(time)):\n",
        "    robot_1.update_mfc_data(data[i,1],time[i])\n",
        "    #robot_2.update_mfc_data(data[i,2],time[i])\n",
        "    #robot_3.update_mfc_data(data[i,1],time[i])\n",
        "    if i>0:\n",
        "        robot_1.update_order_answer_likeness(order,answer,likeness[i])\n",
        "        val,aro,happ = robot_1.update_mood(valence_weights,arousal_weights)\n",
        "        valence.append(val)\n",
        "        arousal.append(aro)\n",
        "        happiness.append(happ)\n",
        "        robot_1.update_delta_evolution()\n",
        "        robot_1.update_personality()\n",
        "        robot_1.emotion_gen()\n",
        "\n"
      ],
      "metadata": {
        "id": "Wc8S1TajFbuj",
        "colab": {
          "base_uri": "https://localhost:8080/"
        },
        "outputId": "51213765-0f16-4fe4-80c9-92693f054861"
      },
      "execution_count": null,
      "outputs": [
        {
          "output_type": "stream",
          "name": "stderr",
          "text": [
            "/usr/local/lib/python3.7/dist-packages/numpy/core/fromnumeric.py:3441: RuntimeWarning: Mean of empty slice.\n",
            "  out=out, **kwargs)\n",
            "/usr/local/lib/python3.7/dist-packages/numpy/core/_methods.py:189: RuntimeWarning: invalid value encountered in double_scalars\n",
            "  ret = ret.dtype.type(ret / rcount)\n",
            "/usr/local/lib/python3.7/dist-packages/numpy/core/_methods.py:263: RuntimeWarning: Degrees of freedom <= 0 for slice\n",
            "  keepdims=keepdims, where=where)\n",
            "/usr/local/lib/python3.7/dist-packages/numpy/core/_methods.py:223: RuntimeWarning: invalid value encountered in true_divide\n",
            "  subok=False)\n",
            "/usr/local/lib/python3.7/dist-packages/numpy/core/_methods.py:254: RuntimeWarning: invalid value encountered in double_scalars\n",
            "  ret = ret.dtype.type(ret / rcount)\n"
          ]
        }
      ]
    },
    {
      "cell_type": "code",
      "source": [
        "robot_1.personality_evolution = np.stack(robot_1.personality_evolution,axis=0)\n"
      ],
      "metadata": {
        "id": "3faPL9Pw9o1K"
      },
      "execution_count": null,
      "outputs": []
    },
    {
      "cell_type": "code",
      "source": [
        "robot_1.personality_evolution.shape"
      ],
      "metadata": {
        "id": "Xu1g9XrlECs_"
      },
      "execution_count": null,
      "outputs": []
    },
    {
      "cell_type": "code",
      "source": [
        "robot_1.delta_evolution = np.stack(robot_1.delta_evolution,axis=0)\n"
      ],
      "metadata": {
        "id": "J7uarrPcbYKU"
      },
      "execution_count": null,
      "outputs": []
    },
    {
      "cell_type": "markdown",
      "source": [
        "#Cell 1"
      ],
      "metadata": {
        "id": "UFrsB3gZSHc-"
      }
    },
    {
      "cell_type": "code",
      "source": [
        "fig, ax = plt.subplots(figsize=(8,6))\n",
        "ax.plot(happiness)\n",
        "ax.set_xlabel(\"Time (days)\",fontsize=15)\n",
        "ax.set_ylabel(\"MFC output normalized\",fontsize=15)\n",
        "plt.savefig(\"./MFC graphs/Cell_3_2wks_norm.png\")"
      ],
      "metadata": {
        "id": "26001s2mkqan"
      },
      "execution_count": null,
      "outputs": []
    },
    {
      "cell_type": "code",
      "source": [
        "with open('./times_2.npy', 'wb') as f:\n",
        "  np.save(f, time)\n",
        "  #np.save(f,robot_1.personality_evolution)"
      ],
      "metadata": {
        "id": "tkruhWcFWOYr"
      },
      "execution_count": null,
      "outputs": []
    },
    {
      "cell_type": "code",
      "source": [
        "#with open('./gen2_cell_3.npy', 'wb') as f:\n",
        "#  np.save(f, robot_1.delta_evolution)\n",
        "#  np.save(f,robot_1.personality_evolution)"
      ],
      "metadata": {
        "id": "KP-rbGVmGEMB"
      },
      "execution_count": null,
      "outputs": []
    },
    {
      "cell_type": "code",
      "source": [
        "fig, ax = plt.subplots(figsize=(8,6))\n",
        "ax.plot(time[10:-1],robot_1.delta_evolution[10:,0],label = \"openess\")\n",
        "ax.plot(time[10:-1],robot_1.delta_evolution[10:,1],label = \"Conscientioussness\")\n",
        "ax.plot(time[10:-1],robot_1.delta_evolution[10:,2],label = \"extraversion\")\n",
        "ax.plot(time[10:-1],robot_1.delta_evolution[10:,3],label = \"agreeableness\")\n",
        "ax.plot(time[10:-1],robot_1.delta_evolution[10:,4],label = \"neuroticism\")\n",
        "ax.set_xlabel(\"Time (days)\",fontsize=15)\n",
        "ax.set_ylabel(\"Score\",fontsize=15)\n",
        "ax.legend()\n",
        "plt.ylim([0,1])\n",
        "plt.savefig(\"./Experiment_3/acquired_Cell_1_.png\")"
      ],
      "metadata": {
        "id": "Sp6Md4-xVm6y"
      },
      "execution_count": null,
      "outputs": []
    },
    {
      "cell_type": "code",
      "source": [
        "robot_1.stability_bins"
      ],
      "metadata": {
        "id": "9kBvBW3WfaSk"
      },
      "execution_count": null,
      "outputs": []
    },
    {
      "cell_type": "code",
      "source": [
        "fig, ax = plt.subplots(figsize=(8,6))\n",
        "ax.plot(time[:-1],robot_1.personality_evolution[:,0],label = \"openess\")\n",
        "ax.plot(time[:-1],robot_1.personality_evolution[:,1],label = \"Conscientioussness\")\n",
        "ax.plot(time[:-1],robot_1.personality_evolution[:,2],label = \"extraversion\")\n",
        "ax.plot(time[:-1],robot_1.personality_evolution[:,3],label = \"agreeableness\")\n",
        "ax.plot(time[:-1],robot_1.personality_evolution[:,4],label = \"neuroticism\")\n",
        "ax.set_xlabel(\"Time (days)\",fontsize=15)\n",
        "ax.set_ylabel(\"Score\",fontsize=15)\n",
        "ax.legend()\n",
        "plt.ylim([0,1])\n",
        "#plt.savefig(\"./Experiment_3/Final_Cell_2.png\")"
      ],
      "metadata": {
        "id": "VJJ_HsX2UfX3"
      },
      "execution_count": null,
      "outputs": []
    },
    {
      "cell_type": "code",
      "source": [
        "import matplotlib.animation as animation"
      ],
      "metadata": {
        "id": "PaFoAGT_C6OE"
      },
      "execution_count": null,
      "outputs": []
    },
    {
      "cell_type": "code",
      "source": [
        "\n",
        "fig, ax = plt.subplots(figsize=(8,6))\n",
        "ax = plt.gca()\n",
        "def animate(i):\n",
        "\n",
        "    ax.clear()\n",
        "    \n",
        "    ax.spines['top'].set_color('none')\n",
        "    ax.spines['left'].set_position('zero')\n",
        "    ax.spines['right'].set_color('none')\n",
        "    ax.spines['bottom'].set_position('zero')\n",
        "    ax.scatter(valence[i], arousal[i],c = robot_1.emotions_marker[robot_1.bin_evolution[i]],label = robot_1.emotions[robot_1.bin_evolution[i]])\n",
        "    #print(i)\n",
        "    ax.set_xlabel(\"Valence\",fontsize=15,ha=\"right\",position=(1,0))\n",
        "    \n",
        "    ax.set_ylabel(\"Arousal\",fontsize=15,verticalalignment=\"top\",position=(-.9,.9))\n",
        "    #ax.legend()\n",
        "    plt.xlim([-1,1])\n",
        "    plt.ylim([-1,1])\n",
        "    ax.legend()\n",
        "ani = animation.FuncAnimation(fig, animate, frames=7000)\n",
        "ani.save('./Emotion_gen.mp4', writer = \"ffmpeg\", fps=100 )\n",
        "plt.show()\n"
      ],
      "metadata": {
        "id": "SIdFEV-b3Rw4"
      },
      "execution_count": null,
      "outputs": []
    },
    {
      "cell_type": "code",
      "source": [
        "robot_1.diff.shape"
      ],
      "metadata": {
        "id": "vX3NYMJPl9Ay"
      },
      "execution_count": null,
      "outputs": []
    },
    {
      "cell_type": "code",
      "source": [
        "\n",
        "fig, ax = plt.subplots(figsize=(8,6))\n",
        "ax = plt.gca()\n",
        "ax.spines['top'].set_color('none')\n",
        "ax.spines['left'].set_position('zero')\n",
        "ax.spines['right'].set_color('none')\n",
        "ax.spines['bottom'].set_position('zero')\n",
        "ax.scatter(valence, arousal,label = robot_1.emotions[robot_1.bin_evolution[-1]])\n",
        "ax.set_xlabel(\"Time (min)\",fontsize=15)\n",
        "ax.set_ylabel(\"MFC output (V)\",fontsize=15)\n",
        "\n",
        "plt.xlim([-1,1])\n",
        "plt.ylim([-1,1])\n",
        "ax.legend()"
      ],
      "metadata": {
        "id": "m3AwG5z7_zbB"
      },
      "execution_count": null,
      "outputs": []
    },
    {
      "cell_type": "code",
      "source": [
        "alph = 1\n",
        "x = np.linspace(0,28,7781)\n",
        "y = [(1-math.tanh(alph*i)) for i in x]\n",
        "fig, ax = plt.subplots(figsize=(8,6))\n",
        "ax.plot(x,y,label = \"openess\")\n",
        "ax.set_xlabel(\"Time (days)\",fontsize=15)\n",
        "ax.set_ylabel(\"St\",fontsize=15)\n",
        "#plt.savefig(\"./Experiment_3/st_alpha1.png\")"
      ],
      "metadata": {
        "id": "kJIWUe_hm3HL"
      },
      "execution_count": null,
      "outputs": []
    },
    {
      "cell_type": "code",
      "source": [],
      "metadata": {
        "id": "hOjczgh0z-xm"
      },
      "execution_count": null,
      "outputs": []
    }
  ]
}